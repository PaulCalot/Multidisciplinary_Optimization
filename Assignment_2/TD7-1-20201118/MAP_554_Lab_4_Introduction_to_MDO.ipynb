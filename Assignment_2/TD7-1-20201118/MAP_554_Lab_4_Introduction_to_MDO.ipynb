{
 "cells": [
  {
   "cell_type": "markdown",
   "metadata": {
    "id": "Zljp4uSxbiga"
   },
   "source": [
    "# Lab 4 : introduction to MDO through the Sellar Problem\n",
    "\n",
    "This notebook is written as an introduction to MDO formulations with Python. \n",
    "\n",
    "## Design problem \n",
    "\n",
    "\n",
    "In this notebook, we consider The 'Sellar Problem' to illustrate the handling of multidiscipinary couplings and MDO formulations\n",
    "\n",
    "We consider a 2-discipline MDO problem with two shared design variables, one local design variable and two coupling variables.  \n",
    "\n",
    "The formulation of the global design problem is as follows:\n",
    "\n",
    "$min \\; \\;z_1^2+z_{sh_2}+y_1+e^{(-y_2)}$\n",
    "\n",
    "$w.r.t. \\{z_{sh_1}, z_{sh_2}, z_{1}\\}$\n",
    " \n",
    "$s.t. \\frac{y_1}{3.16}-1\\geq 0$\n",
    "\n",
    "$\\; \\; \\; \\;\\;1-\\frac{y_2}{24}\\geq 0$\n",
    "\n",
    "$\\; \\; \\; \\;\\;-10\\leq z_{sh_1}\\leq 10$\n",
    " \n",
    "$\\; \\; \\; \\;\\;0\\leq z_{sh_2}\\leq 10$\n",
    " \n",
    "$\\; \\; \\; \\;\\;0\\leq z_{1}\\leq 10$\n",
    "\n",
    "Equations of the disciplines: \n",
    "\n",
    "$c_1(z_{sh_1}, z_{sh_2}, z_{1}, y_{2}) = z_{sh_1}^2+z_{1}+ z_{sh_2}  - 0.2 y_{2}$\n",
    "\n",
    "$c_2(z_{sh_1}, z_{sh_2}, y_{1}) =  z_{sh_1}+ z_{sh_2} + \\sqrt{y_1}$\n",
    "\n",
    "##  Reference\n",
    "Sellar, R. S., Batill, S. M., and Renaud, J. E., “Response Surface Based, Concurrent Subspace Optimization for Multidisciplinary System Design,” Proceedings References 79 of the 34th AIAA Aerospace Sciences Meeting and Exhibit, Reno, NV, January 1996"
   ]
  },
  {
   "cell_type": "code",
   "execution_count": 1,
   "metadata": {
    "colab": {
     "base_uri": "https://localhost:8080/",
     "height": 279
    },
    "id": "Bz8lO7UocKOu",
    "outputId": "6d57123c-a8c0-4ea2-f2b1-ca05ea39e810"
   },
   "outputs": [
    {
     "data": {
      "image/png": "[encoded data removed]",
      "text/plain": [
       "<IPython.core.display.Image object>"
      ]
     },
     "execution_count": 1,
     "metadata": {
      "image/png": {
       "width": 750
      }
     },
     "output_type": "execute_result"
    }
   ],
   "source": [
    "from IPython.display import Image\n",
    "Image('Sellar.png',width = 750)"
   ]
  },
  {
   "cell_type": "markdown",
   "metadata": {
    "id": "9wLjzsD6bigg"
   },
   "source": [
    "## Exercice\n",
    "- Identify N2 Chart\n",
    "- Code the different disciplines, objective and constraints in  python functions\n",
    "- Implement an MDA (using Gauss Seidel Scheme) and test for ($z_{sh_1}=5.$, $z_{sh_2}=2.$, $z_{1}= 2.$), return  converged values of $y_{1}$ and $y_{2}$)\n",
    "- Implement functions for computing the objective function and constraints\n",
    "- Implement a MDF formulation and solve it using SLSQP algorithm of `Scipy` (see Lab 1)\n",
    "- Implement an IDF formulation and solve it using SLSQP algorithm of `Scipy` package (see Lab 1)\n",
    "\n",
    "\n",
    "https://docs.scipy.org/doc/scipy/reference/generated/scipy.optimize.fmin_slsqp.html"
   ]
  },
  {
   "cell_type": "code",
   "execution_count": 3,
   "metadata": {
    "id": "8x417Pepbigq"
   },
   "outputs": [],
   "source": [
    "from scipy.optimize import fmin_slsqp\n",
    "import numpy as np"
   ]
  },
  {
   "cell_type": "markdown",
   "metadata": {
    "id": "BRvJsSIlbig8"
   },
   "source": [
    "### Step 1: code the different disciplines, objective and constraint functions"
   ]
  },
  {
   "cell_type": "code",
   "execution_count": 53,
   "metadata": {
    "id": "7oYEBmH3big-"
   },
   "outputs": [],
   "source": [
    "def D1(z_sh1, z_sh2, z1, y2):\n",
    "    return z_sh1*z_sh1 + z1 + z_sh2 - 0.2 *y2\n",
    "\n",
    "def D2(z_sh1, z_sh2, y1):\n",
    "    return z_sh1 + z_sh2 + np.sqrt(y1)\n",
    "\n",
    "def objective_function(z, y1, y2):\n",
    "    z_sh1=z[0]\n",
    "    z_sh2=z[1]\n",
    "    z1=z[2]\n",
    "    return z1*z1 + z_sh2 + y1 + np.exp(-y2)\n",
    "\n",
    "def constraints(y1,y2):\n",
    "    return [y1/3.16 - 1, 1-y2/24.0]\n",
    "\n"
   ]
  },
  {
   "cell_type": "markdown",
   "metadata": {
    "id": "fLh0yWWobihM"
   },
   "source": [
    "### Step 2: code the MDA using Gauss Seidel Scheme"
   ]
  },
  {
   "cell_type": "code",
   "execution_count": 54,
   "metadata": {
    "id": "91YTLDKlbihO"
   },
   "outputs": [],
   "source": [
    "def MDA(z_sh1, z_sh2, z1, y2_guess):\n",
    "    k = 0\n",
    "    # TODO : make it params\n",
    "    tol = 0.01\n",
    "    kmax = 50\n",
    "    # first guess\n",
    "    y1 = D1(z_sh1, z_sh2, z1, y2_guess)\n",
    "    y2 = D2(z_sh1, z_sh2, y1)\n",
    "    \n",
    "    delta = abs(y2-y2_guess)\n",
    "    \n",
    "    k+=1\n",
    "    \n",
    "    while(delta > tol and k < kmax):\n",
    "        y2_guess = y2\n",
    "        y1 = D1(z_sh1, z_sh2, z1, y2_guess)\n",
    "        y2 = D2(z_sh1, z_sh2, y1)\n",
    "        delta = abs(y2-y2_guess)\n",
    "        k+=1\n",
    "    \n",
    "    if(k<kmax):\n",
    "        return y1, y2, k\n",
    "    else:\n",
    "        return \"not converged\"\n"
   ]
  },
  {
   "cell_type": "markdown",
   "metadata": {
    "id": "mkXJkacpbihW"
   },
   "source": [
    "### Step 3: verify the MDA on ($z_{sh_1}=5.$, $z_{sh_2}=2.$, $z_{1}= 2.$)"
   ]
  },
  {
   "cell_type": "code",
   "execution_count": 55,
   "metadata": {
    "id": "h75miaQzbihW"
   },
   "outputs": [
    {
     "name": "stdout",
     "output_type": "stream",
     "text": [
      "(26.569918695038105, 12.154601700911343, 3)\n"
     ]
    }
   ],
   "source": [
    "z_sh1 = 5.0\n",
    "z_sh2 = 2.0\n",
    "z1 = 2.0\n",
    "y1_guess = 1.0\n",
    "print(MDA(z_sh1, z_sh2, z1, y1_guess))"
   ]
  },
  {
   "cell_type": "markdown",
   "metadata": {
    "id": "lI7fZ8zVbihe"
   },
   "source": [
    "### Step 4: Code the MDF for objective and constraint that aggregates the computation of the MDA and the objective and constraints functions\n",
    "$\\rightarrow$ clue: code 2 separate functions :\n",
    "- MDF_obj : $\\mathbb{R}^3 \\rightarrow \\mathbb{R}$\n",
    "- MDF_const : $\\mathbb{R}^3 \\rightarrow \\mathbb{R}^2$"
   ]
  },
  {
   "cell_type": "code",
   "execution_count": 75,
   "metadata": {
    "id": "zREkQDHbbihe"
   },
   "outputs": [],
   "source": [
    "def MDF_obj(z):\n",
    "    z_sh1=z[0]\n",
    "    z_sh2=z[1]\n",
    "    z1=z[2]\n",
    "    y1_guess = 0\n",
    "    try :\n",
    "        y1, y2, k = MDA(z_sh1, z_sh2, z1, y1_guess)\n",
    "    except:\n",
    "        return \"MDA did not converged\"\n",
    "    \n",
    "    return objective_function(z, y1, y2)\n",
    "\n",
    "def MDF_const(z):\n",
    "    z_sh1=z[0]\n",
    "    z_sh2=z[1]\n",
    "    z1=z[2]\n",
    "    y1_guess = 0\n",
    "    try :\n",
    "        y1, y2, k = MDA(z_sh1, z_sh2, z1, y1_guess)\n",
    "    except : \n",
    "        return \"MDA did not converged\"\n",
    "    return constraints(y1,y2)"
   ]
  },
  {
   "cell_type": "markdown",
   "metadata": {
    "id": "JM6ULwYobihm"
   },
   "source": [
    "### Step 5: Implement MDF optimization process with `SLSQP` algorithm from scipy\n",
    "Define :\n",
    "- bounds\n",
    "- initial point\n",
    "- objective function\n",
    "- constraint functions\n",
    "- tolerance\n",
    "\n",
    "[Link here](https://docs.scipy.org/doc/scipy/reference/generated/scipy.optimize.fmin_slsqp.html)"
   ]
  },
  {
   "cell_type": "code",
   "execution_count": 89,
   "metadata": {
    "id": "9SuddJ79bihm"
   },
   "outputs": [],
   "source": [
    "z_0 = (5.0,2.0,2.0)\n",
    "bounds = [(-10,10), (0,10), (0,10)]\n",
    "acc = 1e-8\n",
    "iter = 50\n",
    "full_output = True"
   ]
  },
  {
   "cell_type": "markdown",
   "metadata": {
    "id": "AV5ogMd5bihu"
   },
   "source": [
    "### Step 6: Run the MDF optimization process for different initializations and conclude"
   ]
  },
  {
   "cell_type": "code",
   "execution_count": 90,
   "metadata": {
    "id": "wU0mdDeZbihw"
   },
   "outputs": [
    {
     "name": "stdout",
     "output_type": "stream",
     "text": [
      "Optimization terminated successfully    (Exit mode 0)\n",
      "            Current function value: 3.1833931163564273\n",
      "            Iterations: 6\n",
      "            Function evaluations: 24\n",
      "            Gradient evaluations: 6\n",
      "Optim value : (array([1.97767459e+00, 2.92585772e-15, 0.00000000e+00]), 3.1833931163564273, 6, 0, 'Optimization terminated successfully')\n",
      "Optimization terminated successfully    (Exit mode 0)\n",
      "            Current function value: 4.130728942750922\n",
      "            Iterations: 9\n",
      "            Function evaluations: 36\n",
      "            Gradient evaluations: 9\n",
      "Optim value : (array([-1.71707703,  0.13858167,  0.1127608 ]), 4.130728942750922, 9, 0, 'Optimization terminated successfully')\n",
      "Optimization terminated successfully    (Exit mode 0)\n",
      "            Current function value: 4.1307289426862\n",
      "            Iterations: 13\n",
      "            Function evaluations: 53\n",
      "            Gradient evaluations: 13\n",
      "Optim value : (array([-1.71707708,  0.13858142,  0.11276082]), 4.1307289426862, 13, 0, 'Optimization terminated successfully')\n"
     ]
    }
   ],
   "source": [
    "z_0 = (5.0,2.0,2.0)\n",
    "print(\"Optim value : {}\".format(fmin_slsqp(MDF_obj, z_0, f_ieqcons = MDF_const, \\\n",
    "                        bounds = bounds, iter = iter, acc = acc, full_output=full_output)))\n",
    "\n",
    "\n",
    "z_0 = (-7.0,4.0,2.0)\n",
    "print(\"Optim value : {}\".format(fmin_slsqp(MDF_obj, z_0, f_ieqcons = MDF_const, \\\n",
    "                        bounds = bounds, iter = iter, acc = acc, full_output=full_output)))\n",
    "\n",
    "z_0 = (-3.0,8.0,0.1)\n",
    "print(\"Optim value : {}\".format(fmin_slsqp(MDF_obj, z_0, f_ieqcons = MDF_const, \\\n",
    "                        bounds = bounds, iter = iter, acc = acc, full_output=full_output)))\n"
   ]
  },
  {
   "cell_type": "markdown",
   "metadata": {},
   "source": [
    "Problème algo gradient ici, on tombe sur un min local. \n",
    "\n",
    "On ne retrouve pas le même comportement juste après car le parcours de l'espace des solutions est différente.\n"
   ]
  },
  {
   "cell_type": "markdown",
   "metadata": {
    "id": "v7qC5rsgbih2"
   },
   "source": [
    "### Step 7: Implement objective function and constraint functions for IDF\n",
    "$\\rightarrow$ clue: code 3 separate functions  for objective function, inequality and equality constraints\n",
    "- IDF_obj : $\\mathbb{R}^5 \\rightarrow \\mathbb{R}$\n",
    "- IDF_eqconst : $\\mathbb{R}^5 \\rightarrow \\mathbb{R}^2$\n",
    "- IDF_ineqconst : $\\mathbb{R}^5 \\rightarrow \\mathbb{R}^2$"
   ]
  },
  {
   "cell_type": "code",
   "execution_count": 86,
   "metadata": {
    "id": "uqQtK8y7bih2"
   },
   "outputs": [],
   "source": [
    "def IDF_obj(X):\n",
    "    z = [X[0],X[1],X[2]]\n",
    "    y1, y2 = X[3], X[4]\n",
    "    return objective_function(z, y1, y2)\n",
    "\n",
    "def IDF_eqconst(X):\n",
    "    z = [X[0],X[1],X[2]]\n",
    "    y1, y2 = X[3], X[4]\n",
    "    z_sh1 = z[0]\n",
    "    z_sh2 = z[1]\n",
    "    z1 = z[2]\n",
    "    return[y1-D1(z_sh1, z_sh2, z1, y2),y2-D2(z_sh1, z_sh2, y1)]\n",
    "\n",
    "def IDF_ineqconst(X):\n",
    "    z = [X[0],X[1],X[2]]\n",
    "    y1, y2 = X[3], X[4]\n",
    "    return constraints(y1,y2)\n",
    "# /!\\ attention, ici on considère X comme étant de taillle 5 et c'est ce qu'on envoie à fmin_slsqp"
   ]
  },
  {
   "cell_type": "markdown",
   "metadata": {
    "id": "hZjNBE3-biiC"
   },
   "source": [
    "### Step 8: Implement the IDF optimization process using `SLSQP` and compare with the results obtained using MDF"
   ]
  },
  {
   "cell_type": "code",
   "execution_count": 88,
   "metadata": {},
   "outputs": [
    {
     "name": "stdout",
     "output_type": "stream",
     "text": [
      "Optimization terminated successfully    (Exit mode 0)\n",
      "            Current function value: 3.1833939516407326\n",
      "            Iterations: 16\n",
      "            Function evaluations: 99\n",
      "            Gradient evaluations: 16\n",
      "Optim value : (array([1.97763888e+00, 2.49408443e-13, 1.38191498e-14, 3.16000000e+00,\n",
      "       3.75527777e+00]), 3.1833939516407326, 16, 0, 'Optimization terminated successfully')\n",
      "Optimization terminated successfully    (Exit mode 0)\n",
      "            Current function value: 3.1833939448375\n",
      "            Iterations: 15\n",
      "            Function evaluations: 90\n",
      "            Gradient evaluations: 15\n",
      "Optim value : (array([1.97763903e+00, 1.64801617e-13, 5.09546561e-15, 3.16000000e+00,\n",
      "       3.75527806e+00]), 3.1833939448375, 15, 0, 'Optimization terminated successfully')\n",
      "Optimization terminated successfully    (Exit mode 0)\n",
      "            Current function value: 3.1833939493481695\n",
      "            Iterations: 15\n",
      "            Function evaluations: 90\n",
      "            Gradient evaluations: 15\n",
      "Optim value : (array([1.97763893e+00, 2.50323749e-14, 5.01626464e-16, 3.16000000e+00,\n",
      "       3.75527786e+00]), 3.1833939493481695, 15, 0, 'Optimization terminated successfully')\n"
     ]
    }
   ],
   "source": [
    "\n",
    "X = (5.0,2.0,2.0,0,0)\n",
    "bounds = [(-10,10), (0,10), (0,10),(-10000, 10000),(-10000, 10000)]\n",
    "print(\"Optim value : {}\".format(fmin_slsqp(IDF_obj, X, f_eqcons = IDF_eqconst, f_ieqcons = IDF_ineqconst, \\\n",
    "                        bounds = bounds, iter = iter, acc = acc, full_output=full_output)))\n",
    "\n",
    "\n",
    "X = (-7.0,4.0,2.0,0,0)\n",
    "bounds = [(-10,10), (0,10), (0,10),(-10000, 10000),(-10000, 10000)]\n",
    "print(\"Optim value : {}\".format(fmin_slsqp(IDF_obj, X, f_eqcons = IDF_eqconst, f_ieqcons = IDF_ineqconst, \\\n",
    "                        bounds = bounds, iter = iter, acc = acc, full_output=full_output)))\n",
    "\n",
    "\n",
    "\n",
    "X = (-3.0,8.0,0.1,0,0)\n",
    "bounds = [(-10,10), (0,10), (0,10),(-10000, 10000),(-10000, 10000)]\n",
    "print(\"Optim value : {}\".format(fmin_slsqp(IDF_obj, X, f_eqcons = IDF_eqconst, f_ieqcons = IDF_ineqconst, \\\n",
    "                        bounds = bounds, iter = iter, acc = acc, full_output=full_output)))"
   ]
  },
  {
   "cell_type": "code",
   "execution_count": null,
   "metadata": {},
   "outputs": [],
   "source": []
  }
 ],
 "metadata": {
  "colab": {
   "name": "MAP 554 - Lab 4 - Introduction to MDO.ipynb",
   "provenance": [],
   "toc_visible": true
  },
  "kernelspec": {
   "display_name": "Python 3",
   "language": "python",
   "name": "python3"
  },
  "language_info": {
   "codemirror_mode": {
    "name": "ipython",
    "version": 3
   },
   "file_extension": ".py",
   "mimetype": "text/x-python",
   "name": "python",
   "nbconvert_exporter": "python",
   "pygments_lexer": "ipython3",
   "version": "3.8.5"
  }
 },
 "nbformat": 4,
 "nbformat_minor": 4
}
