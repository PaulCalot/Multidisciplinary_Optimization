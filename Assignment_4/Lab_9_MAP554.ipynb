{
 "cells": [
  {
   "cell_type": "markdown",
   "metadata": {
    "id": "hx-aGdbX1Uz2"
   },
   "source": [
    "# MAP 554 - Lab 9 : Introduction to constrained Bayesian optimization\n",
    "\n",
    "This lab is designed to introduce Bayesian Optimization (BO)\n",
    "\n",
    "This Lab uses the Python library `GPy` as well as previous Labs and extends it to BO\n",
    "\n",
    "Here we adapt the EGO algorithm to handle constraints with using EI x PF method"
   ]
  },
  {
   "cell_type": "code",
   "execution_count": 2,
   "metadata": {
    "id": "8XAJnePE1NAK"
   },
   "outputs": [],
   "source": [
    "# Support for maths\n",
    "import numpy as np\n",
    "# Plotting tools\n",
    "from matplotlib import pyplot as plt\n",
    "from matplotlib import cm\n",
    "from IPython.display import HTML, display\n",
    "\n",
    "%matplotlib inline\n",
    "import warnings\n",
    "warnings.filterwarnings('ignore')\n",
    "#Gaussian process library\n",
    "#!pip install GPy\n",
    "import GPy\n",
    "\n",
    "# Install PyDoE package for design of experiment\n",
    "#!pip install pyDOE2\n",
    "from pyDOE2 import lhs\n",
    "\n",
    "from scipy.stats import norm\n",
    "import scipy\n",
    "import time\n",
    "import copy\n"
   ]
  },
  {
   "cell_type": "markdown",
   "metadata": {
    "id": "LWe39dH01eH9"
   },
   "source": [
    "We use here the package `GPy`. The documentation for `GPy` is available at [gpy.readthedocs.io](http://gpy.readthedocs.io/en/deploy/).\n",
    "\n",
    "A lot of packages that derive Gaussian Processes can be found in python, such as [scikit-learn](https://scikit-learn.org/stable/), [openTURNS](http://www.openturns.org/), [GPflow](https://github.com/GPflow/GPflow), [SMT](https://github.com/SMTorg/smt=), [GPyTorch](https://gpytorch.ai/), etc.\n",
    "\n",
    "## 2. Definition of the constrained EGO algorithm\n",
    "\n",
    "### 2.1 Global Loop"
   ]
  },
  {
   "cell_type": "code",
   "execution_count": 3,
   "metadata": {
    "id": "JjKQvGEN1bml"
   },
   "outputs": [],
   "source": [
    "# The EGO algorithm takes as arguments :\n",
    "# f_obj :the objective function,\n",
    "# bounds : the bounds on the design variable\n",
    "# k_obj_ref, k_cons_ref : kernel on objective function and list of kernels on constraints functions\n",
    "# constraints : list of constraints functions\n",
    "# DoE : normalized DoE (on [0,1]x R^d)\n",
    "# acquisition_function : acquisition function\n",
    "# num_iter : the maximal number of iterations\n",
    "# threshold_EI : the threshold criterion on EI\n",
    "\n",
    "# The EGO returns :\n",
    "# List of evaluated points \n",
    "# List of new points along the iterations\n",
    "\n",
    "def EGO(f_obj,bounds,\\\n",
    "        k_obj_ref,\\\n",
    "        k_cons_ref,\\\n",
    "        DoE,\\\n",
    "        acquisition_function,\\\n",
    "        constraints = None,\\\n",
    "        num_iter = 50,\\\n",
    "        threshold_EI=1e-6):\n",
    "    \n",
    "    current_DoE =DoE\n",
    "    current_obj_non_norm = f_obj(current_DoE*(bounds[:,1]-bounds[:,0])+bounds[:,0])\n",
    "    \n",
    "    mean_obj = current_obj_non_norm.mean()\n",
    "    std_obj = current_obj_non_norm.std()\n",
    "    current_obj = (current_obj_non_norm-mean_obj)/std_obj\n",
    "    current_min = np.min(current_obj)\n",
    "    # Evaluation of constraints and definition of feasible points\n",
    "    if constraints != None:\n",
    "        current_cons = []\n",
    "        x_feasible= []\n",
    "        y_feasible = []\n",
    "        for i in range(len(constraints)):\n",
    "            current_cons.append(constraints[i](DoE*(bounds[:,1]-bounds[:,0])+bounds[:,0]))\n",
    "        \n",
    "        current_cons = np.array(current_cons)\n",
    "        for i in range(len(DoE)):\n",
    "            if len(constraints)==1:\n",
    "                if current_cons[:,i]<0:\n",
    "                    x_feasible.append(DoE[i])\n",
    "                    y_feasible.append(current_obj[i])\n",
    "                    current_min = np.min(y_feasible)\n",
    "            else:\n",
    "                if np.max(current_cons[:,i],axis = 0)<0:\n",
    "                    x_feasible.append(DoE[i])\n",
    "                    y_feasible.append(current_obj[i])\n",
    "                    current_min = np.min(y_feasible)\n",
    "        if len(x_feasible)==0:\n",
    "            current_min = np.max(current_obj)\n",
    "\n",
    "    ###Print of results\n",
    "    print(\"iteration|         current |        best |   infill x PF | max g | elapsed time\")\n",
    "    print(\"------------------------------------------------------------------------------------------\")\n",
    "    iter_ = 0\n",
    "    EI_ = 50\n",
    "    t0 = time.time()\n",
    "    best = []\n",
    "    while iter_ < num_iter and EI_ > threshold_EI:#for i in range():\n",
    "    \n",
    "        #training of the models\n",
    "        if constraints == None:\n",
    "            #definition of GP model\n",
    "            k =copy.deepcopy(k_obj_ref)\n",
    "            m_obj = GPy.models.GPRegression(current_DoE,current_obj,k)\n",
    "            m_obj.likelihood.variance = 1e-10\n",
    "            m_obj.likelihood.variance.fix()\n",
    "            m_obj.optimize()\n",
    "            \n",
    "            x_new,EI = optim_infill(m_obj,bounds,current_min,acquisition_function, seed = 0)\n",
    "        else:\n",
    "            k = copy.deepcopy(k_obj_ref)\n",
    "            m_obj = GPy.models.GPRegression(current_DoE,current_obj,k)\n",
    "            m_obj.likelihood.variance = 1e-10\n",
    "            m_obj.likelihood.variance.fix()\n",
    "            m_obj.optimize()\n",
    "            \n",
    "            gp_cons = []\n",
    "            iter_cons = 0\n",
    "            k_cons =copy.deepcopy(k_cons_ref)\n",
    "            for cons in constraints:\n",
    "                gp_cons.append(GPy.models.GPRegression(current_DoE,current_cons[iter_cons],k_cons[iter_cons]))\n",
    "                gp_cons[-1].likelihood.variance = 1e-10\n",
    "                gp_cons[-1].likelihood.variance.fix()\n",
    "                gp_cons[-1].optimize()\n",
    "                iter_cons +=1\n",
    "            x_new,EIxPF,EI_ = optim_infill(m_obj,gp_cons,bounds,current_min,acquisition_function,seed=0)\n",
    "        \n",
    "        #Adding new point to the dataset\n",
    "        y_new = f_obj(np.array([x_new])*(bounds[:,1]-bounds[:,0])+bounds[:,0])\n",
    "        \n",
    "        current_DoE = np.append(current_DoE,np.array([x_new]),axis = 0)\n",
    "        current_obj = np.append(current_obj,(y_new-mean_obj)/std_obj,axis = 0)\n",
    "        \n",
    "        if constraints != None:\n",
    "            new_cons = []\n",
    "            \n",
    "            for i in range(len(constraints)):\n",
    "                new_cons.append(constraints[i](np.array([x_new])*(bounds[:,1]-bounds[:,0])+bounds[:,0]))\n",
    "    \n",
    "            current_cons =  np.concatenate((current_cons,np.array(new_cons)),axis = 1)\n",
    "               \n",
    "        # Calculation of new current min if feasible constraints\n",
    "        if np.max(new_cons)<0:\n",
    "            y_feasible.append((y_new-mean_obj)/std_obj)\n",
    "            current_min = np.min(y_feasible)\n",
    "        print(\"%9.d|%17.4e|%13.04f|%13.04f|%6.04f|%6.04f\" %(iter_, y_new, std_obj*current_min+mean_obj,EIxPF,np.max(new_cons),time.time()-t0))    \n",
    "        best.append(std_obj*current_min+mean_obj)\n",
    "        iter_ +=1\n",
    "        \n",
    "    return current_DoE*(bounds[:,1]-bounds[:,0])+bounds[:,0],std_obj*current_obj+mean_obj,best"
   ]
  },
  {
   "cell_type": "markdown",
   "metadata": {
    "id": "qeQaD1aB12Fu"
   },
   "source": [
    "### 2.2 Acquisition function"
   ]
  },
  {
   "cell_type": "code",
   "execution_count": 4,
   "metadata": {
    "id": "FAis6hd81zMz"
   },
   "outputs": [],
   "source": [
    "#Definition of acquisition function\n",
    "\n",
    "#Here we implement EI x PF which calls EI and PF functions\n",
    "# This function requires as arguments: \n",
    "# - the point to evaluate\n",
    "# - the surrogate model of objective function\n",
    "# - the list of surrogate models of constraints functions\n",
    "# - the current minimum\n",
    "\n",
    "\n",
    "# Calculation of Probability of feasibility on a set of constraint models (gps)\n",
    "def PF(x,gps):\n",
    "    PF = 1.\n",
    "    for gp in gps:\n",
    "        pred,var = gp.predict(np.array([x]))    \n",
    "        var = np.max([1e-15,var])\n",
    "        std = np.sqrt(var)\n",
    "        PF = PF* norm.cdf(-pred/std)     \n",
    "    return PF[0][0]\n",
    "\n",
    "\n",
    "# Calculation of Expected Improvement \n",
    "def EI(x,gp,y_min):\n",
    "    pred,var = gp.predict(np.array([x]))\n",
    "    var = np.max([1e-15,var])\n",
    "    std = np.sqrt(var)\n",
    "    EI = (y_min-pred)* norm.cdf((y_min-pred)/std)+std*norm.pdf((y_min-pred)/std)\n",
    "    return -EI[0][0]\n",
    "\n",
    "\n",
    "#Calculation of composite EIxPF infill criterion\n",
    "def EIxPF(x,m_obj,m_cons,y_min):\n",
    "    return  EI(x,m_obj,y_min) * PF(x,m_cons)"
   ]
  },
  {
   "cell_type": "markdown",
   "metadata": {
    "id": "1pE7m9nG2DwO"
   },
   "source": [
    "### 2.3 Optimization process to optimize infill criterion"
   ]
  },
  {
   "cell_type": "code",
   "execution_count": 5,
   "metadata": {
    "id": "JBA68t1P1-0g"
   },
   "outputs": [],
   "source": [
    "# This function is used to optimize the infill criterion, it takes as arguments :\n",
    "# m_obj : the GP of the objective function\n",
    "# y_min : the current minimum\n",
    "# seed : the seed of the stochastic optimization algorithm\n",
    "\n",
    "# It returns the location of the best point to infill as well as the optimized value of EI\n",
    "\n",
    "# Here, the Differential Evolution (See Lecture 1) is used as the EI present a lot of local minima\n",
    "\n",
    "def optim_infill(m_obj,m_cons,bounds,y_min,acquisition_function,seed):\n",
    "    f = lambda x : acquisition_function(x,m_obj,m_cons,y_min)\n",
    "    bounds_norm = np.zeros((2,len(bounds)))\n",
    "    if len(bounds)>1:\n",
    "        bounds_norm[:,0] = 0.\n",
    "        bounds_norm[:,1] = 1.\n",
    "    else:\n",
    "        bounds_norm = [[0.,1.]]\n",
    "    np.random.seed(seed)\n",
    "    struct_res = scipy.optimize.differential_evolution(f,\\\n",
    "                                                    popsize=50,\n",
    "                                                    maxiter =100,\n",
    "                                                    bounds = bounds_norm)\n",
    "\n",
    "    x_opt = struct_res.x\n",
    "    res = struct_res.fun\n",
    "    EI_ = -EI(x_opt,m_obj,y_min)\n",
    "    return x_opt,np.abs(res),EI_"
   ]
  },
  {
   "cell_type": "markdown",
   "metadata": {
    "id": "vwNbvu0c2Km3"
   },
   "source": [
    "## 3. Example on 1 - D function\n",
    "\n",
    "Here we test the EGO algorithm on the Forrester function defined  on $[0,1]$ as follows : \n",
    " $$ f(z) = (6z-2)^2 \\sin(12z-4)$$\n",
    " \n",
    "We also add a constraint on the problem defined as follows (shifted Forrester function):\n",
    "$$ g(z) = (6(z+0.2)-2)^2 \\sin(12(z+0.2)-4)$$"
   ]
  },
  {
   "cell_type": "code",
   "execution_count": 6,
   "metadata": {
    "id": "-Eyofa6T2H6U"
   },
   "outputs": [],
   "source": [
    "# definition of Forrester function\n",
    "def forrester(z):    \n",
    "    return (6*z-2)**2*np.sin(12*z-4)\n",
    "\n",
    "# definition of constraint function\n",
    "def cons(z):\n",
    "    return (6*(z+0.2)-2)**2*np.sin(12*(z+0.2)-4)"
   ]
  },
  {
   "cell_type": "code",
   "execution_count": 7,
   "metadata": {
    "id": "O7PD2lDc2SZI"
   },
   "outputs": [
    {
     "data": {
      "text/html": [
       "<style>#output-body {display: flex; align-items: center;justify-content: center;}</style>"
      ],
      "text/plain": [
       "<IPython.core.display.HTML object>"
      ]
     },
     "metadata": {},
     "output_type": "display_data"
    },
    {
     "data": {
      "image/png": "[encoded data removed]",
      "text/plain": [
       "<Figure size 576x432 with 1 Axes>"
      ]
     },
     "metadata": {
      "needs_background": "light"
     },
     "output_type": "display_data"
    }
   ],
   "source": [
    "#Visualization of Forrester function : \n",
    "# Our sample space: 100 samples in the interval [0,1]\n",
    "z0 = np.linspace(0.,1.,100)[:, None]\n",
    "y = forrester(z0)\n",
    "g = cons(z0)\n",
    "plt.figure(figsize=(8,6))\n",
    "plt.title(\"Objective and constraint exact functions\")\n",
    "plt.plot(z0,y,label = 'Forrester')\n",
    "plt.plot(z0,g, label='Constraint')\n",
    "plt.plot(z0,np.zeros(len(z0)),'--',label = 'y = 0')\n",
    "plt.legend()\n",
    "plt.xlabel(\"z\")\n",
    "display(HTML(\"\"\"<style>#output-body {display: flex; align-items: center;justify-content: center;}</style>\"\"\"))  #to plot at the center of the page"
   ]
  },
  {
   "cell_type": "markdown",
   "metadata": {
    "id": "DLz6z_g62xcy"
   },
   "source": [
    "Here, we will use a constrained EGO algorithm to find the global optimum"
   ]
  },
  {
   "cell_type": "code",
   "execution_count": 8,
   "metadata": {
    "id": "OrHq3qU32XNL"
   },
   "outputs": [],
   "source": [
    "# Definition of initial DoE\n",
    "# To generate initial DoE, we use the function 'LHS' of the package pyDOE\n",
    "# The first argument is the dimension of the design vector, the second is the number of points in the DoE\n",
    "z_init = lhs(1,4)\n",
    "bounds = np.array([[0.,1.]])"
   ]
  },
  {
   "cell_type": "code",
   "execution_count": 9,
   "metadata": {
    "id": "wPe-PoTo21u1"
   },
   "outputs": [],
   "source": [
    "# Definition of kernel\n",
    "k_obj_ref = GPy.kern.RBF(1,ARD = True) \n",
    "k_cons_ref = [GPy.kern.RBF(1,ARD = True)]\n"
   ]
  },
  {
   "cell_type": "code",
   "execution_count": 10,
   "metadata": {
    "id": "ZU1n8FXa25zX"
   },
   "outputs": [
    {
     "name": "stdout",
     "output_type": "stream",
     "text": [
      "iteration|         current |        best |   infill x PF | max g | elapsed time\n",
      "------------------------------------------------------------------------------------------\n",
      "        0|      -4.0492e-01|       0.7421|       0.0551|0.2714|0.4150\n",
      "        1|      -7.7168e-01|       0.7421|       0.1681|0.0570|0.8533\n",
      "        2|      -9.4434e-01|       0.7421|       0.5715|0.0081|1.3413\n",
      "        3|      -6.0094e-01|      -0.6009|       0.2734|-0.0204|1.8360\n",
      "        4|      -8.5027e-01|      -0.8503|       0.0904|-0.0028|2.5683\n",
      "        5|      -9.3333e-01|      -0.9333|       0.0305|-0.0003|3.4406\n",
      "        6|      -4.9642e+00|      -0.9333|       0.0045|6.9405|3.9643\n",
      "        7|      -1.7288e+00|      -1.7288|       0.4550|-1.8807|4.7404\n",
      "        8|      -2.5046e+00|      -2.5046|       0.2964|-0.1005|5.6114\n",
      "        9|      -2.5462e+00|      -2.5462|       0.0158|-0.0004|7.5640\n",
      "       10|       1.5830e+01|      -2.5462|       0.0000|-22.3844|9.0088\n"
     ]
    }
   ],
   "source": [
    "#Run of EGO\n",
    "# Here we add additional arguments : \n",
    "# - list of kernels for the constraints (k_cons_ref)\n",
    "# - list of constraints calculation function (constraints)\n",
    "\n",
    "EGO_forrester_x,EGO_forrester_y,best_forrester = EGO(forrester,bounds,\\\n",
    "        k_obj_ref,\\\n",
    "        k_cons_ref,\\\n",
    "        z_init,\\\n",
    "        EIxPF,\\\n",
    "        constraints = [cons],\\\n",
    "        num_iter = 20,\\\n",
    "        threshold_EI=1e-6)"
   ]
  },
  {
   "cell_type": "code",
   "execution_count": 11,
   "metadata": {
    "id": "xcrOgh9Z267m"
   },
   "outputs": [
    {
     "data": {
      "text/html": [
       "<style>#output-body {display: flex; align-items: center;justify-content: center;}</style>"
      ],
      "text/plain": [
       "<IPython.core.display.HTML object>"
      ]
     },
     "metadata": {},
     "output_type": "display_data"
    },
    {
     "data": {
      "image/png": "[encoded data removed]",
      "text/plain": [
       "<Figure size 576x432 with 1 Axes>"
      ]
     },
     "metadata": {
      "needs_background": "light"
     },
     "output_type": "display_data"
    }
   ],
   "source": [
    "# Visualization of results\n",
    "plt.figure(figsize=(8,6))\n",
    "plt.plot(z0,y, label = 'function')\n",
    "plt.plot(z0,g,label = 'constraint')\n",
    "plt.scatter(EGO_forrester_x,EGO_forrester_y,c='r',label = 'infill points')\n",
    "plt.scatter(z_init,forrester(z_init),c='g',label='initial_DoE')\n",
    "plt.plot(z0,np.zeros(len(z0)))\n",
    "plt.legend()\n",
    "plt.xlabel(\"z\")\n",
    "display(HTML(\"\"\"<style>#output-body {display: flex; align-items: center;justify-content: center;}</style>\"\"\"))  #to plot at the center of the page\n",
    "\n"
   ]
  },
  {
   "cell_type": "code",
   "execution_count": 12,
   "metadata": {
    "id": "uODK7cm-3aI_"
   },
   "outputs": [
    {
     "data": {
      "text/html": [
       "<style>#output-body {display: flex; align-items: center;justify-content: center;}</style>"
      ],
      "text/plain": [
       "<IPython.core.display.HTML object>"
      ]
     },
     "metadata": {},
     "output_type": "display_data"
    },
    {
     "data": {
      "image/png": "[encoded data removed]",
      "text/plain": [
       "<Figure size 576x432 with 1 Axes>"
      ]
     },
     "metadata": {
      "needs_background": "light"
     },
     "output_type": "display_data"
    }
   ],
   "source": [
    "plt.figure(figsize=(8,6))\n",
    "plt.plot(best_forrester)\n",
    "plt.xlabel('Iteration number')\n",
    "plt.ylabel('Current minimum')\n",
    "plt.title('Convergence curve')\n",
    "display(HTML(\"\"\"<style>#output-body {display: flex; align-items: center;justify-content: center;}</style>\"\"\"))  #to plot at the center of the page"
   ]
  },
  {
   "cell_type": "markdown",
   "metadata": {
    "id": "REeBye7G32sG"
   },
   "source": [
    "## 4. Example on 2 - D function\n",
    "\n",
    "Let consider the Six Hump Camel function (Lab 8) and test constrained EGO.\n",
    "\n",
    "Six Hump Camel function is defined as follows : \n",
    "\n",
    "$$f(\\mathbf{z}) = \\left(4-2.1z_1^2+\\frac{z_1^4}{3}\\right)z_1^2+ z_1z_2+(4z_2^2-4)z_2^2$$\n",
    "\n",
    "with $z_1 \\in [-2,2]$ and $z_2 \\in [-1 ,1]$\n",
    "\n",
    "\n",
    "First constraint :\n",
    "$$g_1(\\mathbf{z}) = (z_1+1.25z_2)^2+3z_2-2 \\leq0$$\n",
    "\n",
    "Second constraint :\n",
    "$$g_2(\\mathbf{z}) = ((-z_1-1.25z_2)^2-3z_2-2) \\leq0$$"
   ]
  },
  {
   "cell_type": "markdown",
   "metadata": {
    "id": "_3HEUE1938XH"
   },
   "source": [
    "## Exercice 1\n",
    "\n",
    "Solve the optimization problem with only the first constraint"
   ]
  },
  {
   "cell_type": "code",
   "execution_count": null,
   "metadata": {
    "id": "l6aOGGOf3trb"
   },
   "outputs": [],
   "source": []
  },
  {
   "cell_type": "markdown",
   "metadata": {
    "id": "FtbIUin04HTX"
   },
   "source": [
    "## Exercice 2\n",
    "\n",
    "Solve the optimization problem with two constraints and conclude"
   ]
  },
  {
   "cell_type": "code",
   "execution_count": null,
   "metadata": {
    "id": "_7JbSk4H30qf"
   },
   "outputs": [],
   "source": []
  },
  {
   "cell_type": "code",
   "execution_count": null,
   "metadata": {
    "id": "xvUqo4iv7xuU"
   },
   "outputs": [],
   "source": []
  }
 ],
 "metadata": {
  "colab": {
   "collapsed_sections": [],
   "name": "Lab_9_MAP554.ipynb",
   "provenance": []
  },
  "kernelspec": {
   "display_name": "Python 3",
   "language": "python",
   "name": "python3"
  },
  "language_info": {
   "codemirror_mode": {
    "name": "ipython",
    "version": 3
   },
   "file_extension": ".py",
   "mimetype": "text/x-python",
   "name": "python",
   "nbconvert_exporter": "python",
   "pygments_lexer": "ipython3",
   "version": "3.8.5"
  }
 },
 "nbformat": 4,
 "nbformat_minor": 4
}
