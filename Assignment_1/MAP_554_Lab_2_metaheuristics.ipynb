{
 "cells": [
  {
   "cell_type": "markdown",
   "metadata": {
    "id": "9Rce4-BsDhbe"
   },
   "source": [
    "#  MAP 554 / TP1 -  Lab 2: Opitmization with population-based algorithms\n",
    "\n",
    "\n",
    "This notebook is written as an introdcution to population-based algorithms for optimization with Python\n",
    "\n",
    "\n",
    "This notebook consists of three parts:\n",
    "- Design of a genetic algorithm (GA)\n",
    "- Use of package `Inspyred` for GA and PSO\n",
    "- Handling of constraints\n",
    "- Exercices"
   ]
  },
  {
   "cell_type": "code",
   "execution_count": null,
   "metadata": {
    "colab": {
     "base_uri": "https://localhost:8080/"
    },
    "id": "Q60cFKt6Dhbi",
    "outputId": "7988fcef-7fd9-4e49-bc44-770d7073b071"
   },
   "outputs": [],
   "source": [
    "#Installation of required packages\n",
    "!pip install inspyred"
   ]
  },
  {
   "cell_type": "markdown",
   "metadata": {
    "id": "mDbap4nBDhb0"
   },
   "source": [
    "## 0- Definition of test functions\n",
    "\n",
    "`Rosenbrock`: 2D function $\\mathbf{z} \\rightarrow 100\\times(z_2-z_1^2)^2+(1-z_1)^2$\n",
    "\n",
    "`Ackley`: 2D function $\\mathbf{z} \\rightarrow -20 \\exp\\left({-0.2 \\sqrt{0.5(z_1^2+z_2^2)}}\\right) - \\exp\\left(0.5\\cos(2\\pi z_1) + 0.5\\cos(2\\pi z_2)\\right) + e + 20$\n"
   ]
  },
  {
   "cell_type": "code",
   "execution_count": null,
   "metadata": {
    "id": "7sQBzWILDhb8"
   },
   "outputs": [],
   "source": [
    "# Support for maths\n",
    "import numpy as np\n",
    "import copy\n",
    "import matplotlib\n",
    "%matplotlib inline\n",
    "\n",
    "def Rosenbrock(z):\n",
    "    return 100*(z[1]-z[0]**2)**2+(1-z[0])**2\n",
    "\n",
    "def Ackley(z):\n",
    "    return -20 * np.exp(-0.2*np.sqrt(0.5*(z[0]**2+z[1]**2))) - np.exp(0.5*np.cos(2*np.pi*z[0])+0.5*np.cos(2*np.pi*z[1])) + np.exp(1) + 20."
   ]
  },
  {
   "cell_type": "code",
   "execution_count": null,
   "metadata": {
    "id": "bxGSWIZsDhcG"
   },
   "outputs": [],
   "source": [
    "#Optimum of the function\n",
    "Optimum_Rosenbrock = np.array([1., 1.])\n",
    "\n",
    "Optimum_Ackley = np.array([0., 0.])"
   ]
  },
  {
   "cell_type": "markdown",
   "metadata": {
    "id": "dUqt3sQGDhcO"
   },
   "source": [
    "## 1- Design of a genetic algorithm\n",
    "\n",
    "A genetic algorithm consists of a initialization step and 4 interative steps:\n",
    " - Generation of the initial population\n",
    " - Step 1 : Evaluation of the population\n",
    " - Step 2 : Selection of the parents\n",
    " - Step 3 : Variation of the parents (crossover and mutation)\n",
    " - Step 4 : Selection of the new generation"
   ]
  },
  {
   "cell_type": "markdown",
   "metadata": {
    "id": "WgLw6bdBDhcO"
   },
   "source": [
    "### Binary coding of the population\n",
    "\n",
    "In this part, a genetic algorithm with a binary coding of the population is considered. \n",
    "One defines a function which transformes a binary number of `dimension_bits` bits into a real number between `mini` and `maxi`"
   ]
  },
  {
   "cell_type": "code",
   "execution_count": null,
   "metadata": {
    "id": "1akuDkfDDhcQ"
   },
   "outputs": [],
   "source": [
    "#Coding of individuals from binary to real\n",
    "def _binary_to_real(binary,mini,maxi,dimensions,dimension_bits):\n",
    "    real = []\n",
    "    for d, lo, hi in zip(range(dimensions), mini,maxi):\n",
    "        b = binary[d*dimension_bits:(d+1)*dimension_bits]\n",
    "        real_val = float(int(''.join([str(i) for i in b]), 2))\n",
    "        value = real_val / (2**(dimension_bits)-1) * (hi - lo) + lo\n",
    "        real.append(value)\n",
    "    return real"
   ]
  },
  {
   "cell_type": "code",
   "execution_count": null,
   "metadata": {
    "colab": {
     "base_uri": "https://localhost:8080/"
    },
    "id": "t7Y4M7o9DhcW",
    "outputId": "4bbac483-6929-4a01-9513-66cc78caa94e"
   },
   "outputs": [],
   "source": [
    "_binary_to_real([1,0,1,0,0,0,1,0,1,0,1,0],[0,0],[1,1],2,6)"
   ]
  },
  {
   "cell_type": "markdown",
   "metadata": {
    "id": "78g_8tbFDhce"
   },
   "source": [
    "The function `algo_genetique` follows the different steps of genetic algorithm: initialization, evaluation, selection, cross-over, mutation and replacement."
   ]
  },
  {
   "cell_type": "code",
   "execution_count": null,
   "metadata": {
    "id": "I6TwcLasDhce"
   },
   "outputs": [],
   "source": [
    "#Definition of genetic algorithm\n",
    "def algo_genetique(f,num_generations,popsize,dim,mini,maxi,dimension_bits,proba_crossover=0.9,proba_mutation=0.1):\n",
    "    \n",
    "    new_population = np.array([[np.random.choice([0, 1]) for _ in range(dim* dimension_bits)] for j in range(popsize)]) # random initialization\n",
    "        \n",
    "    for generation in range(num_generations):# iteration over the number of generations\n",
    "        \n",
    "        fitness = evaluate_population(f, new_population,mini,maxi,dimension_bits) #evaluation of the population\n",
    "        \n",
    "        parents = select_parents(new_population,fitness) #selection of the parents\n",
    "        \n",
    "        off_spring= crossover(parents,proba_crossover) #cross-over of the parents\n",
    "        \n",
    "        off_spring = mutation(off_spring,proba_mutation) # mutation\n",
    "        \n",
    "        new_population = np.concatenate((new_population,off_spring))\n",
    "        new_population = truncate(f,new_population,mini,maxi,dimension_bits) #selection of the new generation\n",
    "    return new_population"
   ]
  },
  {
   "cell_type": "markdown",
   "metadata": {
    "id": "JGDdHoBrDhco"
   },
   "source": [
    "- Evaluation of the population : Definition of the function that will be used to evaluate the objective function on the current population `evaluate_population`. \n",
    "\n",
    "`evaluate_population` takes as argument the function that represents the fitness and the population to be evaluated. "
   ]
  },
  {
   "cell_type": "code",
   "execution_count": null,
   "metadata": {
    "id": "uP-FO5HeDhco"
   },
   "outputs": [],
   "source": [
    "# Function used to evaluate the population\n",
    "def evaluate_population(f, pop, mini,maxi,dimension_bits):\n",
    "    fitness=np.zeros((len(pop),1))\n",
    "    dimensions = pop.shape[1]\n",
    "    for i in range(len(pop)):\n",
    "        real_value = _binary_to_real(pop[i].astype(int),mini,maxi,dimensions,dimension_bits)\n",
    "        fitness[i] =10000 - f(real_value)\n",
    "    return fitness    "
   ]
  },
  {
   "cell_type": "markdown",
   "metadata": {
    "id": "PAkfA03BDhc2"
   },
   "source": [
    "- Selection of the parents: definition of the function used to select the parents `select_parents`. \n",
    "\n",
    "`select_parents` takes as arguments the current population, the fitness of each individual. It returns the parents to be mutated and crossed-over. The selection method here is the roulette wheel."
   ]
  },
  {
   "cell_type": "code",
   "execution_count": null,
   "metadata": {
    "id": "swuxnMT_Dhc2"
   },
   "outputs": [],
   "source": [
    "# Function of selection, takes as inputs the current population and the fitness\n",
    "def select_parents(pop, fitness):\n",
    "    sum_fitness = np.sum(fitness)\n",
    "    proba = np.zeros((len(pop),1))\n",
    "    for i in range(len(pop)):\n",
    "        proba[i] = np.sum(fitness[:i+1])/sum_fitness  # empirical CDF of the fitness values\n",
    "        parents = pop\n",
    "    for parent_num in range(len(pop)):\n",
    "        r=np.random.rand() #on tire un nombre aléatoire entre 0 et 1\n",
    "        if r<=proba[0]: \n",
    "            parents[parent_num] = pop[0]\n",
    "        else:\n",
    "            for i in range(len(pop)-1):\n",
    "                if fitness[i]<=r<fitness[i+1]:\n",
    "                    parents[parent_num] = pop[i+1]\n",
    "    return parents"
   ]
  },
  {
   "cell_type": "markdown",
   "metadata": {
    "id": "wRsrCO28Dhc8"
   },
   "source": [
    "- Crossover of the parents:\n",
    "\n",
    "\n",
    "Ones defines the crossover function for the binary coding. This function makes the cross-over between two parents by switching their genes from a random determined point."
   ]
  },
  {
   "cell_type": "code",
   "execution_count": null,
   "metadata": {
    "id": "CzpasRHSDhc-"
   },
   "outputs": [],
   "source": [
    "#Cross over function, takes as inputs the parents and a probability of cross-over\n",
    "\n",
    "def crossover(parents,proba_crossover):\n",
    "     offspring = parents    \n",
    "     for k in range(len(parents)):\n",
    "         # Index of the first parent to mate.\n",
    "         parent1_idx = k%parents.shape[0]\n",
    "         # Index of the second parent to mate.\n",
    "         parent2_idx = (k+1)%parents.shape[0]\n",
    "         # The new offspring will have its first half of its genes taken from the first parent.\n",
    "         r = np.random.rand()\n",
    "         crossover_point = np.random.choice(range(parents.shape[1]))\n",
    "         if r<=proba_crossover:\n",
    "             offspring[k, 0:crossover_point] = parents[parent1_idx, 0:crossover_point]\n",
    "             # The new offspring will have its second half of its genes taken from the second parent.\n",
    "             offspring[k, crossover_point:] = parents[parent2_idx, crossover_point:]\n",
    "     return offspring"
   ]
  },
  {
   "cell_type": "markdown",
   "metadata": {
    "id": "IUdMNsX0DhdC"
   },
   "source": [
    "- Mutation:\n",
    "\n",
    "Ones defines the mutation function for the binary coding. This function inverts a bit randomly"
   ]
  },
  {
   "cell_type": "code",
   "execution_count": null,
   "metadata": {
    "id": "SU4IWZvXDhdI"
   },
   "outputs": [],
   "source": [
    "#Mutation function, takes as inputs the offsprings and a probability of mutation\n",
    "def mutation(off_spring,proba_mutation):\n",
    "    for idx in range(off_spring.shape[0]):\n",
    "        k = np.random.choice(range(off_spring.shape[1]))\n",
    "        r = np.random.rand()\n",
    "        if r<=proba_mutation:\n",
    "            off_spring[idx, k] = (off_spring[idx, k] +1)%2\n",
    "    return off_spring"
   ]
  },
  {
   "cell_type": "markdown",
   "metadata": {
    "id": "VFYHnD64DhdM"
   },
   "source": [
    "- Selection of the new generation: definition of the truncature function  `truncate`. \n",
    "\n",
    "`truncate` takes as arguments the current population and the fitness function. The coded approach selects the individuals with the best fitness (elitist)"
   ]
  },
  {
   "cell_type": "code",
   "execution_count": null,
   "metadata": {
    "id": "2B7buONeDhdO"
   },
   "outputs": [],
   "source": [
    "#Selection function\n",
    "def truncate(f , population,mini,maxi,dimension_bits):\n",
    "    pop_size=int(len(population)/2)\n",
    "    population=np.array(population)\n",
    "    population=population.astype(int)\n",
    "    fitness=evaluate_population(f, population,mini,maxi,dimension_bits)\n",
    "    new_generation = np.empty((pop_size, population.shape[1]))\n",
    "    for pop_num in range(pop_size):\n",
    "        max_fitness_idx = np.where(fitness == np.max(fitness))\n",
    "        max_fitness_idx = max_fitness_idx[0][0]\n",
    "        new_generation[pop_num, :] = population[max_fitness_idx, :]\n",
    "        fitness[max_fitness_idx] = -99999999999\n",
    "    return new_generation"
   ]
  },
  {
   "cell_type": "code",
   "execution_count": null,
   "metadata": {
    "colab": {
     "base_uri": "https://localhost:8080/"
    },
    "id": "pt4XoGTHDhdY",
    "outputId": "a77ba7c7-fe0f-46dd-9544-79e3a4869fc1"
   },
   "outputs": [],
   "source": [
    "#Run of the genetic algorithm on the Rosenbrock function\n",
    "results=algo_genetique(Rosenbrock,20,20,2,[-1,-1],[2.,2.],8)\n",
    "fitness=evaluate_population(Rosenbrock, results,[-1,-1],[2.,2.],8)\n",
    "10000-fitness.max()"
   ]
  },
  {
   "cell_type": "markdown",
   "metadata": {
    "id": "tVtdrqNgDhde"
   },
   "source": [
    "### Real coding\n",
    " \n",
    "In the following, a real coding genetic algorithm is described\n"
   ]
  },
  {
   "cell_type": "code",
   "execution_count": null,
   "metadata": {
    "id": "6eJ1eSrkDhdg"
   },
   "outputs": [],
   "source": [
    "#Generic definition of genetic algorithm, takes as inputs the function to optimize, the number of generations\n",
    "# the size of the population, the bounds on the opimization variables and the probabilities of cross over and mutation\n",
    "    \n",
    "def algo_genetique(f,num_generations,popsize,dim, mini,maxi , proba_crossover=0.9,proba_mutation=0.1):\n",
    "    new_population = np.random.uniform(low=np.array([-2.0,-1.0]), high=np.array([2.0,3.0]), size=(popsize,dim))\n",
    "    \n",
    "    for generation in range(num_generations): # loop over the number of generations\n",
    "        \n",
    "        fitness = evaluate_population(f, new_population) #evaluation of the population\n",
    "        \n",
    "        parents = select_parents(new_population,fitness) #selection of the  parents\n",
    "        \n",
    "        off_spring_crossover = crossover(parents,proba_crossover, mini,maxi) #cross over of the parents\n",
    "        \n",
    "        off_spring = mutation(off_spring_crossover,proba_mutation) # mutation\n",
    "        \n",
    "        new_population = np.concatenate((new_population,off_spring)) \n",
    "        new_population = truncate(f,new_population) #selection of the new generation\n",
    "        \n",
    "    return new_population        "
   ]
  },
  {
   "cell_type": "markdown",
   "metadata": {
    "id": "U_XXnthSDhdk"
   },
   "source": [
    "- Evaluation of the population: Definition of the population evaluation function `evaluate_population`. \n",
    "\n",
    "`evaluate_population` takes as arguments the function to be optimized and the current population \n"
   ]
  },
  {
   "cell_type": "code",
   "execution_count": null,
   "metadata": {
    "id": "QVZQ3H1TDhdm"
   },
   "outputs": [],
   "source": [
    "def evaluate_population(f, pop):\n",
    "    fitness=np.zeros((len(pop),1))\n",
    "    for i in range(len(pop)):\n",
    "        fitness[i] =10000 - f(pop[i]) # transformation of the minimization problem into a maximization problem for the selection step\n",
    "    return fitness"
   ]
  },
  {
   "cell_type": "markdown",
   "metadata": {
    "id": "NZ2D_pJRDhdo"
   },
   "source": [
    "- Selection of the parents: definition of the function used to select the parents `select_parents`. \n",
    "\n",
    "`select_parents` takes as arguments the current population, the fitness of each individual. It returns the parents to be mutated and crossed-over. The selection method here is the roulette wheel."
   ]
  },
  {
   "cell_type": "code",
   "execution_count": null,
   "metadata": {
    "id": "WwPDW1EnDhdo"
   },
   "outputs": [],
   "source": [
    "# Fonction de sélection, prend en entrée la population et la fitness de celle ci\n",
    "def select_parents(pop, fitness):\n",
    "    sum_fitness = np.sum(fitness)\n",
    "    proba = np.zeros((len(pop),1))\n",
    "    for i in range(len(pop)):\n",
    "        proba[i] = np.sum(fitness[:i+1])/sum_fitness  #empirical CDF of the fitness\n",
    "    parents = pop\n",
    "    for parent_num in range(len(pop)):\n",
    "        r=np.random.rand() #generation of random number between 0 and 1\n",
    "        if r<=proba[0]: \n",
    "            parents[parent_num] = pop[0]\n",
    "        else:\n",
    "            for i in range(len(pop)-1):\n",
    "                if fitness[i]<=r<fitness[i+1]:\n",
    "                    parents[parent_num] = pop[i+1]\n",
    "    return parents"
   ]
  },
  {
   "cell_type": "markdown",
   "metadata": {
    "id": "hNG2pxqUDhds"
   },
   "source": [
    "- Crossover of the parents: Definition of the `crossover` function\n",
    "\n",
    "`crossover` takes as inputs the liste of parents and a probability of crossover. The coded approach is the simulated binary crossover."
   ]
  },
  {
   "cell_type": "code",
   "execution_count": null,
   "metadata": {
    "id": "GjPVrhd0Dhds"
   },
   "outputs": [],
   "source": [
    "def crossover(parents,proba_crossover, mini,maxi):\n",
    "    children = copy.copy(parents)\n",
    "    for k in range(len(children)):\n",
    "        if k%2==0:\n",
    "            if np.random.random() < proba_crossover:\n",
    "                dad_idx = np.random.choice(range(len(parents)))\n",
    "                mom_idx = np.random.choice(range(len(parents)))\n",
    "                dad = parents[dad_idx]\n",
    "                mom = parents[mom_idx]\n",
    "                di = 10.\n",
    "                bro = copy.copy(dad)\n",
    "                sis = copy.copy(mom)\n",
    "                for i, (m, d, lb, ub) in enumerate(zip(mom, dad, mini, maxi)):\n",
    "                    try:\n",
    "                        if m > d:\n",
    "                            m, d = d, m\n",
    "                        beta = 1.0 + 2 * min(m - lb, ub - d) / float(d - m)\n",
    "                        alpha = 2.0 - 1.0 / beta**(di + 1.0)\n",
    "                        u = np.random.random() \n",
    "                        if u <= (1.0 / alpha):\n",
    "                            beta_q = (u * alpha)**(1.0 / float(di + 1.0))\n",
    "                        else:\n",
    "                            beta_q = (1.0 / (2.0 - u * alpha))**(1.0 / float(di + 1.0))\n",
    "                        bro_val = 0.5 * ((m + d) - beta_q * (d - m)) #weighted sum between the father and mother\n",
    "                        bro_val = max(min(bro_val, ub), lb)        \n",
    "                        sis_val = 0.5 * ((m + d) + beta_q * (d - m)) #weighted sum between the father and mother\n",
    "                        sis_val = max(min(sis_val, ub), lb)\n",
    "                        if np.random.random() > 0.5:\n",
    "                            bro_val, sis_val = sis_val, bro_val\n",
    "                        if np.isnan(bro_val)==False:\n",
    "                            bro[i] = bro_val\n",
    "                        if np.isnan(sis_val)==False:\n",
    "                            sis[i] = sis_val\n",
    "                    except:\n",
    "                        pass\n",
    "                children[k]=bro\n",
    "                children[k+1]=sis\n",
    "    return children"
   ]
  },
  {
   "cell_type": "markdown",
   "metadata": {
    "id": "tMzMJK67Dhdw"
   },
   "source": [
    "- Mutation of offsprings: definition of the `mutation` function \n",
    "\n",
    "`mutation` takes as inputs the list of parents and a probability of mutation. The coded appraoch allows to add a uniform random number to a selected gene."
   ]
  },
  {
   "cell_type": "code",
   "execution_count": null,
   "metadata": {
    "id": "6wPP68ffDhdy"
   },
   "outputs": [],
   "source": [
    "# Fonction de mutation, prend en entrée une population et une probabilité de mutation\n",
    "def mutation(off_spring, proba_mutation):\n",
    "    for idx in range(off_spring.shape[0]):\n",
    "        random_value = np.random.uniform(-1.0, 1.0, 1)\n",
    "        k = np.random.choice(range(off_spring.shape[1]))\n",
    "        r = np.random.rand()\n",
    "        if r<=proba_mutation:\n",
    "            off_spring[idx, k] = off_spring[idx, k] + random_value\n",
    "    return off_spring"
   ]
  },
  {
   "cell_type": "markdown",
   "metadata": {
    "id": "3R7nCJzrDhd0"
   },
   "source": [
    "- Selection of the new generation: definition of the truncature function  `truncate`. \n",
    "\n",
    "`truncate` takes as arguments the current population and the fitness function. The coded approach selects the individuals with the best fitness (elitist)"
   ]
  },
  {
   "cell_type": "code",
   "execution_count": null,
   "metadata": {
    "id": "etNpok1WDhd0"
   },
   "outputs": [],
   "source": [
    "def truncate(f , population):\n",
    "    pop_size=int(len(population)/2)\n",
    "    fitness=evaluate_population(f, population)\n",
    "    new_generation = np.empty((pop_size, population.shape[1]))\n",
    "    for pop_num in range(pop_size):\n",
    "        max_fitness_idx = np.where(fitness == np.max(fitness))\n",
    "        max_fitness_idx = max_fitness_idx[0][0]\n",
    "        new_generation[pop_num, :] = population[max_fitness_idx, :]\n",
    "        fitness[max_fitness_idx] = -99999999999\n",
    "    return new_generation"
   ]
  },
  {
   "cell_type": "code",
   "execution_count": null,
   "metadata": {
    "colab": {
     "base_uri": "https://localhost:8080/"
    },
    "id": "vemWpkmGDhd2",
    "outputId": "8e588d41-c742-4a19-afd9-5c03b8341d0e"
   },
   "outputs": [],
   "source": [
    "# Run of genetic algorithm on the Rosenbrock function\n",
    "final_pop=algo_genetique(Rosenbrock,5,20,2,[-2.0,-1.0],[2.,3.],0.9,0.5)\n",
    "fitness=evaluate_population(Rosenbrock, results)\n",
    "10000-fitness.max()\n",
    "print(Rosenbrock(final_pop[0]))"
   ]
  },
  {
   "cell_type": "code",
   "execution_count": null,
   "metadata": {
    "colab": {
     "base_uri": "https://localhost:8080/",
     "height": 316
    },
    "id": "O2xqRl8dDhd6",
    "outputId": "679c0ed2-0ef4-434f-dab7-6922e1476a57"
   },
   "outputs": [],
   "source": [
    "#Representation of the individuals\n",
    "import matplotlib.pyplot as plt\n",
    "from matplotlib.colors import LogNorm,PowerNorm\n",
    "import matplotlib.colors as colors\n",
    "xmin, xmax, xstep = -2., 2., .2\n",
    "ymin, ymax, ystep = -1., 3., .2\n",
    "X, Y = np.meshgrid(np.arange(xmin, xmax + xstep, xstep), np.arange(ymin, ymax + ystep, ystep))\n",
    "##### Plot Rosenbrock 2D ######\n",
    "plt.figure()\n",
    "z_rosenbrock = np.array([Rosenbrock(np.array([x,y])) for x, y in zip(np.ravel(X), np.ravel(Y))])\n",
    "Z_rosenbrock  = z_rosenbrock.reshape(X.shape)\n",
    "CS=plt.contour(X, Y, Z_rosenbrock, levels=np.logspace(0, 8, 35), norm=LogNorm(), cmap=plt.cm.jet,alpha=0.5)\n",
    "plt.plot([Optimum_Rosenbrock[0]],[Optimum_Rosenbrock[1]], 'r*', markersize=18)\n",
    "plt.clabel(CS,inline=1,fontsize=10)\n",
    "plt.pcolormesh(X,Y,Z_rosenbrock,shading='gouraud',norm=PowerNorm(gamma=0.3),cmap=plt.cm.jet,alpha=0.5)\n",
    "plt.xlabel('$z_1$')\n",
    "plt.ylabel('$z_2$')\n",
    "plt.title('Rosenbrock')\n",
    "\n",
    "plt.scatter([candidate[0] for candidate in (final_pop)],[candidate[1] for candidate in (final_pop)],marker='^', c='red')"
   ]
  },
  {
   "cell_type": "markdown",
   "metadata": {
    "id": "iRMV89l_DheA"
   },
   "source": [
    "# Exercice on Genetic Algorithm\n",
    "On the Rosenbrock and Ackley functions :\n",
    "- Test different crossover and mutation probabilities and answer the following questions: \n",
    "\n",
    "- What effect implies a crossover probabilty that is small with respect to the mutation probability?\n",
    "\n",
    "- What is the effect of a mutation probability equal to 0?\n",
    "\n",
    "- Test different approches for replacement and selection :\n",
    "\n",
    "- What is the effect of elitist replacement and selection? "
   ]
  },
  {
   "cell_type": "code",
   "execution_count": null,
   "metadata": {
    "id": "8_zYgxA-DheA"
   },
   "outputs": [],
   "source": []
  },
  {
   "cell_type": "markdown",
   "metadata": {
    "id": "xC3B-RBKDheG"
   },
   "source": [
    "## 2- Use of Inspyred package\n",
    "Inspyred is apython library that allows the use of several population based algorithms such as GA, PSO, \\textit{etc}. It involves a particular structure of problem definition.\n",
    "\n",
    "### Problem definition\n",
    "An optimization problem is defined using a classe. We have to specify the dimension, the bounds, the generation of the initial propulation, the evaluation operator and the nature of the optimization probelm (minimization or maximization)."
   ]
  },
  {
   "cell_type": "code",
   "execution_count": null,
   "metadata": {
    "id": "UDbhJ_WXDheG"
   },
   "outputs": [],
   "source": [
    "from inspyred.benchmarks import Benchmark\n",
    "import inspyred\n",
    "from inspyred import ec\n",
    "from random import Random\n",
    "from time import time\n",
    "class Rosenbrock_pb(Benchmark):\n",
    "    def __init__(self, dimensions=2): #  initialization, problem dimension\n",
    "        Benchmark.__init__(self, dimensions)\n",
    "        self.bounder = ec.Bounder([-2.0,-1.0], [2.0,3.0]) # bounds of the variables\n",
    "        self.maximize = False # minimisation\n",
    "        self.global_optimum = [1 for _ in range(self.dimensions)]\n",
    "    \n",
    "    def generator(self, random,args): # generation of initial population\n",
    "        return [random.uniform(-2.0, 2.0) , random.uniform(-1.0, 3.0)] #random generation\n",
    "        \n",
    "    def evaluator(self, candidates, args=0): # evaluation of points\n",
    "        fitness = []\n",
    "        for c in candidates:\n",
    "            total = 0\n",
    "            for i in range(len(c) - 1):\n",
    "                total += 100 * (c[i]**2 - c[i+1])**2 + (c[i] - 1)**2 # Rosenbrock function\n",
    "            fitness.append(total)\n",
    "        return fitness"
   ]
  },
  {
   "cell_type": "markdown",
   "metadata": {
    "id": "m8SLnMV8DheK"
   },
   "source": [
    "### Genetic algorithm with Inspyred\n",
    "Inspyred provides a list of predefined functions for the selection, crossover, mutation and replacement. It is also possible to defini the probabilities of mutation and cross over.\n",
    "#### Selection operators: \n",
    "- `default_selection`: selection of the all the population\n",
    "- `truncation_selection`: selection of the best individuals\n",
    "- `uniform_selection`: random selection \n",
    "- `fitness_proportionate_selection`: selection based on a roulette wheel according to the fitness\n",
    "- `rank_selection`: selection over the rank\n",
    "- `tournament_selection`: sselection by tournament\n",
    "#### Crossover operators:\n",
    "- `n_point_crossover`: This function performs n-point crossover (NPX). It selects *n* random points without replacement at which to 'cut' the candidate solutions and recombine them.\n",
    "- `uniform_crossover`: This function performs uniform crossover (UX). For each element of the parents, a biased coin is flipped to determine whether the first offspring gets the 'mom' or the 'dad' element.\n",
    "- `partially_matched_crossover`: This function performs partially matched crossover (PMX). This type ofcrossover assumes that candidates are composed of discrete values that the permutations of a given set (typically integers). It produces offspring hat are themselves permutations of the set.\n",
    "- `Arithmetic_crossover`: This function performs arithmetic crossover (AX), which is similar to a generalized weighted averaging of the candidate element\n",
    "- `heuristic_crossover`: It performs heuristic crossover (HX), which is similar to the update rule used in particle swarm optimization.\n",
    "- `simulated_binary_crossover`: This function performs simulated binary crossover (SBX), following the implementation in NSGA-II \n",
    "- `laplace_crossover`:  This function performs Laplace crosssover (LX), following the implementation specified in (Deep and Thakur, \"A new crossover operator for real coded genetic algorithms,\" Applied Mathematics and Computation, Volume 188, Issue 1, May 2007, pp. 895--911).\n",
    "#### Mutation operators\n",
    "- `bit_flip_mutation`: This function performs bit-flip mutation. If a candidate solution contains non-binary values, this function leaves it unchanged.\n",
    "- `gaussian_mutation`: This function performs Gaussian mutation. \n",
    "- `nonuniform_mutation`:  The function performs nonuniform mutation.\n",
    "#### Replacement operators:\n",
    "- `truncation_replacement`: selection of the best individuals\n",
    "- `generational_replacement`: replacement of the parent generation by the offsprings\n",
    "- `random_replacement`: random replacement\n"
   ]
  },
  {
   "cell_type": "code",
   "execution_count": null,
   "metadata": {
    "id": "EGCvjeHLDheK"
   },
   "outputs": [],
   "source": [
    "# Definition of GA algorithm with Inspyred\n",
    "prng = Random()\n",
    "prng.seed(time()) \n",
    "problem = Rosenbrock_pb(2)\n",
    "ea = inspyred.ec.GA(prng)\n",
    "ea.terminator = inspyred.ec.terminators.evaluation_termination\n",
    "final_pop = ea.evolve(generator=problem.generator, #generation function\n",
    "                      evaluator=problem.evaluator,  #evaluation function\n",
    "                      pop_size=100,\n",
    "                      maximize=problem.maximize,  #maximization or minimization\n",
    "                      bounder=problem.bounder,  #Bounds on the variables\n",
    "                      max_evaluations=2000,\n",
    "                      crossover_rate=0.9,\n",
    "                      mutation_rate=0.99,\n",
    "                      selector = inspyred.ec.selectors.tournament_selection, #Choice of the selection process\n",
    "                      variator=[inspyred.ec.variators.crossovers.n_point_crossover,inspyred.ec.variators.mutators.bit_flip_mutation], # choices of the crossover and mutation process\n",
    "                      replacer=inspyred.ec.replacers.generational_replacement)# choice of the replacement process"
   ]
  },
  {
   "cell_type": "code",
   "execution_count": null,
   "metadata": {
    "colab": {
     "base_uri": "https://localhost:8080/"
    },
    "id": "Nk6eNb7oGjIs",
    "outputId": "63d11e94-ad2f-434c-8e63-5f4e66ce0e89"
   },
   "outputs": [],
   "source": [
    "print(final_pop[0])"
   ]
  },
  {
   "cell_type": "markdown",
   "metadata": {
    "id": "YCRxF3WvDheM"
   },
   "source": [
    "`ea.evolve`returns the final population. Each element contains the coordinates of the individuals and the corresponding fitness."
   ]
  },
  {
   "cell_type": "code",
   "execution_count": null,
   "metadata": {
    "colab": {
     "base_uri": "https://localhost:8080/",
     "height": 316
    },
    "id": "Sgpb6l-eDheM",
    "outputId": "754fb30d-1d24-447e-db94-4eba37fb47af"
   },
   "outputs": [],
   "source": [
    "#Representation of the individuals\n",
    "import matplotlib.pyplot as plt\n",
    "from matplotlib.colors import LogNorm,PowerNorm\n",
    "import matplotlib.colors as colors\n",
    "f=Rosenbrock_pb(2)\n",
    "xmin, xmax, xstep = -2., 2., .2\n",
    "ymin, ymax, ystep = -1., 3., .2\n",
    "X, Y = np.meshgrid(np.arange(xmin, xmax + xstep, xstep), np.arange(ymin, ymax + ystep, ystep))\n",
    "##### Plot Rosenbrock 2D ######\n",
    "plt.figure()\n",
    "z_rosenbrock = np.array([f.evaluator([np.array([x,y])]) for x, y in zip(np.ravel(X), np.ravel(Y))])\n",
    "Z_rosenbrock  = z_rosenbrock.reshape(X.shape)\n",
    "CS=plt.contour(X, Y, Z_rosenbrock, levels=np.logspace(0, 8, 35), norm=LogNorm(), cmap=plt.cm.jet,alpha=0.5)\n",
    "plt.plot([Optimum_Rosenbrock[0]],[Optimum_Rosenbrock[1]], 'r*', markersize=18)\n",
    "plt.clabel(CS,inline=1,fontsize=10)\n",
    "plt.pcolormesh(X,Y,Z_rosenbrock,shading='gouraud',norm=PowerNorm(gamma=0.3),cmap=plt.cm.jet,alpha=0.5)\n",
    "plt.xlabel('$z_1$')\n",
    "plt.ylabel('$z_2$')\n",
    "plt.title('Rosenbrock')\n",
    "\n",
    "plt.scatter([candidate.candidate[0] for candidate in (final_pop)],[candidate.candidate[1] for candidate in (final_pop)],marker='^', c='red')\n"
   ]
  },
  {
   "cell_type": "code",
   "execution_count": null,
   "metadata": {
    "id": "zXvqjjjYDheQ"
   },
   "outputs": [],
   "source": []
  },
  {
   "cell_type": "markdown",
   "metadata": {
    "id": "0v3A2cSVDheU"
   },
   "source": [
    "### Implementation of Particle Swarm Optimization with Inspyred\n",
    "\n",
    "Inspyred also provides PSO algorithms. \n",
    "- The following syntax allows to define the algorithm `ea = inspyred.swarm.PSO(prng)` \n",
    "- he following syntax allows to define the PSO topology: `ea.topology = inspyred.swarm.topologies.ring_topology`. Two choices are possible: \n",
    "    - `ring_topology`: This function defines all the particles of a part of the design space as neighbors.\n",
    "    - `star_topology`: All the particles are considered as neighbors.\n",
    "- The following syntax allows to perform the evolution of the particle swarm:\n",
    "\n",
    "    `final_pop= ea.evolve(generator=problem.generator,\n",
    "                      evaluator=problem.evaluator, \n",
    "                      pop_size=30,\n",
    "                      bounder=problem.bounder,\n",
    "                      maximize=problem.maximize,\n",
    "                      max_evaluations=400,\n",
    "                      social_rate=0.4,\n",
    "                      cognitive_rate= 0.4,\n",
    "                      inertia_rate=0.4)`\n"
   ]
  },
  {
   "cell_type": "code",
   "execution_count": null,
   "metadata": {
    "id": "DY3aAZlxDheU"
   },
   "outputs": [],
   "source": [
    "ea = inspyred.swarm.PSO(prng)\n",
    "ea.terminator = inspyred.ec.terminators.evaluation_termination\n",
    "ea.topology = inspyred.swarm.topologies.ring_topology\n",
    "final_pop= ea.evolve(generator=problem.generator,\n",
    "                      evaluator=problem.evaluator, \n",
    "                      pop_size=30,\n",
    "                      bounder=problem.bounder,\n",
    "                      maximize=problem.maximize,\n",
    "                      max_evaluations=400,\n",
    "                      social_rate=0.4, #choix de la valeur du paramètre social\n",
    "                    cognitive_rate= 0.4, #choix de la valeur du paramètre cognitif\n",
    "                    inertia_rate=0.4)#choix de la valeur du paramètre d'inertie"
   ]
  },
  {
   "cell_type": "code",
   "execution_count": null,
   "metadata": {
    "colab": {
     "base_uri": "https://localhost:8080/"
    },
    "id": "Zgr0YHvXDheY",
    "outputId": "8df0b23b-f009-424c-8487-3e9f4434e14d"
   },
   "outputs": [],
   "source": [
    "final_pop[0]"
   ]
  },
  {
   "cell_type": "code",
   "execution_count": null,
   "metadata": {
    "colab": {
     "base_uri": "https://localhost:8080/",
     "height": 316
    },
    "id": "I9rMMBh5Dhec",
    "outputId": "24cfe5a2-225e-4eb1-8ec8-6f7cb5314303"
   },
   "outputs": [],
   "source": [
    "#Visualization on the Rosenbrock function\n",
    "\n",
    "f=Rosenbrock_pb(2)\n",
    "xmin, xmax, xstep = -2., 2., .2\n",
    "ymin, ymax, ystep = -1., 3., .2\n",
    "X, Y = np.meshgrid(np.arange(xmin, xmax + xstep, xstep), np.arange(ymin, ymax + ystep, ystep))\n",
    "##### Plot Rosenbrock 2D ######\n",
    "plt.figure()\n",
    "z_rosenbrock = np.array([f.evaluator([np.array([x,y])]) for x, y in zip(np.ravel(X), np.ravel(Y))])\n",
    "Z_rosenbrock  = z_rosenbrock.reshape(X.shape)\n",
    "CS=plt.contour(X, Y, Z_rosenbrock, levels=np.logspace(0, 8, 35), norm=LogNorm(), cmap=plt.cm.jet,alpha=0.5)\n",
    "plt.plot([Optimum_Rosenbrock[0]],[Optimum_Rosenbrock[1]], 'r*', markersize=18)\n",
    "plt.clabel(CS,inline=1,fontsize=10)\n",
    "plt.pcolormesh(X,Y,Z_rosenbrock,shading='gouraud',norm=PowerNorm(gamma=0.3),cmap=plt.cm.jet,alpha=0.5)\n",
    "plt.xlabel('$z_1$')\n",
    "plt.ylabel('$z_2$')\n",
    "plt.title('Rosenbrock')\n",
    "plt.scatter([candidate.candidate[0] for candidate in (final_pop)],[candidate.candidate[1] for candidate in (final_pop)],marker='^', c='red')\n"
   ]
  },
  {
   "cell_type": "markdown",
   "metadata": {
    "id": "JEDT3U9mDhee"
   },
   "source": [
    "# Exercice :\n",
    "- On  Rosenbrock and Ackley :\n",
    "    - Test different values for `social_rate`, `cognitive_rate` and `inertia_rate`, and conclude on the impact of the parameters on the trade off exploration / exploitation."
   ]
  },
  {
   "cell_type": "code",
   "execution_count": null,
   "metadata": {
    "id": "6qkD--fWDheg"
   },
   "outputs": [],
   "source": []
  },
  {
   "cell_type": "markdown",
   "metadata": {
    "id": "oPl22AtNDhem"
   },
   "source": [
    "## 3- Handling of constraints\n",
    "\n",
    "The approaches considered before are unconstrained. In this section, constraints are considered to illustrate several methods to handle them.\n",
    "\n",
    "We consider a constraint$g(\\textbf{z})$ as feasible in  $\\textbf{z}$ iif  $g(\\textbf{z})\\leq 0$\n",
    "\n",
    "One defines two constraints: \n",
    "- $g1(\\textbf{z})=z_2-z_1-1 \\leq 0$\n",
    "- $g2(\\textbf{z})=z_2-z_1^2-0.5  \\leq 0 $"
   ]
  },
  {
   "cell_type": "code",
   "execution_count": null,
   "metadata": {
    "id": "Rda6mxOvDhem"
   },
   "outputs": [],
   "source": [
    "def g1(z):\n",
    "    return z[1]-z[0]-1\n",
    "def g2(z):\n",
    "    return z[1]-z[0]**2-0.5"
   ]
  },
  {
   "cell_type": "markdown",
   "metadata": {
    "id": "hnI2KHvKDhes"
   },
   "source": [
    "### Penalization methods\n",
    "The penalization takes into account the constraints by modifying the objective function as follows:\n",
    "$\\tilde{f}(\\textbf{z}) = f(\\textbf{z}) + p(\\textbf{z})$\n",
    "\n",
    "$p(\\textbf{z})$ is a function of the constriant violation $res(\\textbf{z})$. "
   ]
  },
  {
   "cell_type": "code",
   "execution_count": null,
   "metadata": {
    "id": "rZuQv1LTDhes"
   },
   "outputs": [],
   "source": [
    "# definition of the violation function of the constraints\n",
    "def res(x,*constraints):\n",
    "    sigma = 0\n",
    "    for constraint in constraints:\n",
    "        sigma += np.min((0,constraint(x)))\n",
    "    return sigma"
   ]
  },
  {
   "cell_type": "code",
   "execution_count": null,
   "metadata": {
    "id": "X5p0IcmPDhew"
   },
   "outputs": [],
   "source": [
    "#Death penalty\n",
    "def mort_subite(x, f, res, *constraints):\n",
    "    if res(x,*constraints)==0:\n",
    "        return f(x)\n",
    "    else:\n",
    "        return 10000"
   ]
  },
  {
   "cell_type": "code",
   "execution_count": null,
   "metadata": {
    "id": "JRYLLWKyDhey"
   },
   "outputs": [],
   "source": [
    "#Static penalty\n",
    "def pena_statique(x, f, res, K, *constraints):\n",
    "    if res(x,*constraints)==0:\n",
    "        return f(x)\n",
    "    else:\n",
    "        return f(x) + K * res(x,*constraints)"
   ]
  },
  {
   "cell_type": "markdown",
   "metadata": {
    "id": "y_sPSt6DDhe0"
   },
   "source": [
    "### Handling of the constraints by 'constraint dominance' technique\n",
    "- A feasible candidate is always prefered to an unfeasible one,\n",
    "- Between two feasible candidates, the candidate with the best fitness is prefered,\n",
    "- Between two unfeasible candidates, the candidate that violates the less the constraints is prefered."
   ]
  },
  {
   "cell_type": "code",
   "execution_count": null,
   "metadata": {
    "id": "yp0mhZEVDhe2"
   },
   "outputs": [],
   "source": [
    "#Definition of constriant dominance function\n",
    "def contrainte_dominance(x, f, res, *constraints):\n",
    "    if res(x,*constraints)==0:\n",
    "        return f(x)\n",
    "    else: \n",
    "        return 9000 + res(x,*constraints)"
   ]
  },
  {
   "cell_type": "code",
   "execution_count": null,
   "metadata": {
    "colab": {
     "base_uri": "https://localhost:8080/",
     "height": 316
    },
    "id": "SMM6DIVgDhe4",
    "outputId": "b0f58d92-3e02-429e-9095-eebf5b0b880d"
   },
   "outputs": [],
   "source": [
    "#Illustration son the Rosenbrock function\n",
    "def Rosenbrock(x):\n",
    "    return 100*(x[1]-x[0]**2)**2+(1-x[0])**2\n",
    "f=Rosenbrock\n",
    "xmin, xmax, xstep = -2., 2., .2\n",
    "ymin, ymax, ystep = -1., 3., .2\n",
    "X, Y = np.meshgrid(np.arange(xmin, xmax + xstep, xstep), np.arange(ymin, ymax + ystep, ystep))\n",
    "##### Plot Rosenbrock 2D ######\n",
    "plt.figure()\n",
    "z_rosenbrock = np.array([f(np.array([x,y])) for x, y in zip(np.ravel(X), np.ravel(Y))])\n",
    "Z_rosenbrock  = z_rosenbrock.reshape(X.shape)\n",
    "CS=plt.contour(X, Y, Z_rosenbrock, levels=np.logspace(0, 8, 35), norm=LogNorm(), cmap=plt.cm.jet,alpha=0.5)\n",
    "plt.plot([Optimum_Rosenbrock[0]],[Optimum_Rosenbrock[1]], 'r*', markersize=18)\n",
    "plt.clabel(CS,inline=1,fontsize=10)\n",
    "plt.pcolormesh(X,Y,Z_rosenbrock,shading='gouraud',norm=PowerNorm(gamma=0.3),cmap=plt.cm.jet,alpha=0.5)\n",
    "t=np.linspace(-2,2,100)\n",
    "G1=[t[i]+1 for i in range(len(t))]\n",
    "G2=[t[i]**2+0.5 for i in range(len(t))]\n",
    "plt.xlim(xmin,xmax)\n",
    "plt.ylim(ymin,ymax)\n",
    "plt.plot(t,G1)\n",
    "plt.plot(t,G2)\n",
    "plt.xlabel('$z_1$')\n",
    "plt.ylabel('$z_2$')\n",
    "plt.title('Rosenbrock')\n"
   ]
  },
  {
   "cell_type": "code",
   "execution_count": null,
   "metadata": {
    "id": "XqWjflJyDhe6"
   },
   "outputs": [],
   "source": [
    "# Definition of genetic algorithm with death penalty\n",
    "def algo_genetique(f,constraint_handling,res,num_generations,popsize,dim, mini,maxi , proba_crossover,proba_mutation,*constraints):\n",
    "    new_population = np.random.uniform(low=np.array([-2.0,-1.0]), high=np.array([2.0,3.0]), size=(popsize,dim))\n",
    "    for generation in range(num_generations):\n",
    "        fitness = evaluate_population(f,new_population,constraint_handling,res ,*constraints)\n",
    "        parents = select_parents(new_population,fitness)\n",
    "        off_spring_crossover = crossover(parents,proba_crossover, mini,maxi)\n",
    "        off_spring = mutation(off_spring_crossover,proba_mutation)\n",
    "        new_population = np.concatenate((new_population,off_spring))\n",
    "        new_population = truncate(f,new_population,constraint_handling,res,*constraints)\n",
    "    return new_population\n",
    "\n",
    "def evaluate_population(f, pop,constraint_handling,res,*constraints):\n",
    "    fitness=np.zeros((len(pop),1))\n",
    "    for i in range(len(pop)):\n",
    "        fitness[i] =10000 - constraint_handling(pop[i],f, res, *constraints)\n",
    "    return fitness\n",
    "\n",
    "def truncate(f , population,constraint_handling,res,*constraints):\n",
    "    pop_size=int(len(population)/2)\n",
    "    fitness=evaluate_population(f, population,constraint_handling,res,*constraints)\n",
    "    new_generation = np.empty((pop_size, population.shape[1]))\n",
    "    for pop_num in range(pop_size):\n",
    "        max_fitness_idx = np.where(fitness == np.max(fitness))\n",
    "        max_fitness_idx = max_fitness_idx[0][0]\n",
    "        new_generation[pop_num, :] = population[max_fitness_idx, :]\n",
    "        fitness[max_fitness_idx] = -99999999999\n",
    "    return new_generation"
   ]
  },
  {
   "cell_type": "code",
   "execution_count": null,
   "metadata": {
    "colab": {
     "base_uri": "https://localhost:8080/"
    },
    "id": "m8Zfnf3ODhfA",
    "outputId": "2d776a21-3cb2-4c35-de08-6c9a092d122f"
   },
   "outputs": [],
   "source": [
    "final_pop=algo_genetique(Rosenbrock,contrainte_dominance,res,50,20,2,[-2.,-1.],[2.,3.],0.9,0.8,g1,g2)\n",
    "fitness=evaluate_population(Rosenbrock, final_pop,contrainte_dominance,res)"
   ]
  },
  {
   "cell_type": "code",
   "execution_count": null,
   "metadata": {
    "colab": {
     "base_uri": "https://localhost:8080/",
     "height": 316
    },
    "id": "elDWI9TmDhfG",
    "outputId": "1a59ebee-81da-412e-8b59-3e33a4481b2f"
   },
   "outputs": [],
   "source": [
    "#Illustration son the Rosenbrock function\n",
    "def Rosenbrock(x):\n",
    "    return 100*(x[1]-x[0]**2)**2+(1-x[0])**2\n",
    "f=Rosenbrock\n",
    "xmin, xmax, xstep = -2., 2., .2\n",
    "ymin, ymax, ystep = -1., 3., .2\n",
    "X, Y = np.meshgrid(np.arange(xmin, xmax + xstep, xstep), np.arange(ymin, ymax + ystep, ystep))\n",
    "##### Plot Rosenbrock 2D ######\n",
    "plt.figure()\n",
    "z_rosenbrock = np.array([f(np.array([x,y])) for x, y in zip(np.ravel(X), np.ravel(Y))])\n",
    "Z_rosenbrock  = z_rosenbrock.reshape(X.shape)\n",
    "CS=plt.contour(X, Y, Z_rosenbrock, levels=np.logspace(0, 8, 35), norm=LogNorm(), cmap=plt.cm.jet,alpha=0.5)\n",
    "plt.plot([Optimum_Rosenbrock[0]],[Optimum_Rosenbrock[1]], 'r*', markersize=18)\n",
    "plt.clabel(CS,inline=1,fontsize=10)\n",
    "plt.pcolormesh(X,Y,Z_rosenbrock,shading='gouraud',norm=PowerNorm(gamma=0.3),cmap=plt.cm.jet,alpha=0.5)\n",
    "t=np.linspace(-2,2,100)\n",
    "G1=[t[i]+1 for i in range(len(t))]\n",
    "G2=[t[i]**2+0.5 for i in range(len(t))]\n",
    "plt.xlim(xmin,xmax)\n",
    "plt.ylim(ymin,ymax)\n",
    "plt.plot(t,G1)\n",
    "plt.plot(t,G2)\n",
    "plt.xlabel('$z_1$')\n",
    "plt.ylabel('$z_2$')\n",
    "plt.title('Rosenbrock')\n",
    "plt.scatter([candidate[0] for candidate in (final_pop)],[candidate[1] for candidate in (final_pop)],marker='^', c='red')"
   ]
  },
  {
   "cell_type": "markdown",
   "metadata": {
    "id": "CbpVYm0wDhfK"
   },
   "source": [
    "### Exercice \n",
    "\n",
    "Test the different constraint handling methods for handling the constraints.\n"
   ]
  },
  {
   "cell_type": "code",
   "execution_count": null,
   "metadata": {
    "id": "JFQ6h6jJDhfK"
   },
   "outputs": [],
   "source": []
  },
  {
   "cell_type": "code",
   "execution_count": null,
   "metadata": {
    "id": "JktIoFiyDhfO"
   },
   "outputs": [],
   "source": []
  }
 ],
 "metadata": {
  "colab": {
   "name": "MAP 554 - Lab 2 metaheuristics.ipynb",
   "provenance": []
  },
  "kernelspec": {
   "display_name": "Python 3",
   "language": "python",
   "name": "python3"
  },
  "language_info": {
   "codemirror_mode": {
    "name": "ipython",
    "version": 3
   },
   "file_extension": ".py",
   "mimetype": "text/x-python",
   "name": "python",
   "nbconvert_exporter": "python",
   "pygments_lexer": "ipython3",
   "version": "3.7.1"
  }
 },
 "nbformat": 4,
 "nbformat_minor": 4
}
