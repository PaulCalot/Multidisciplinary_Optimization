{
 "cells": [
  {
   "cell_type": "markdown",
   "metadata": {
    "id": "M8dMkVBmIqco"
   },
   "source": [
    "#  MAP 554 / TP1 -  Lab 3: Example of use of multiobjective optimization algorithms on an aerospace vehicle design test case\n"
   ]
  },
  {
   "cell_type": "code",
   "execution_count": null,
   "metadata": {
    "id": "T-OdSkiVJfbM"
   },
   "outputs": [],
   "source": [
    "from IPython.display import Image"
   ]
  },
  {
   "cell_type": "code",
   "execution_count": null,
   "metadata": {
    "colab": {
     "base_uri": "https://localhost:8080/"
    },
    "id": "JH_AbV0gIqcs",
    "outputId": "6ac1cede-4d13-4da1-8fee-7f4b03b232b1"
   },
   "outputs": [],
   "source": [
    "# Installation of required packages\n",
    "!pip install Git+https://github.com/Project-Platypus/Platypus.git"
   ]
  },
  {
   "cell_type": "markdown",
   "metadata": {
    "id": "U7WQiv56IqdA"
   },
   "source": [
    "\n",
    "\n",
    "## <font color='blue'> Problem description</font>\n",
    "\n",
    "- <font color='blue'> Analysis </font> of a **solid propellant booster performance** using four coupled disciplines:\n",
    "    - Propulsion,\n",
    "    - Structure,\n",
    "    - Mass estimation,\n",
    "    - Performance analyses. "
   ]
  },
  {
   "cell_type": "code",
   "execution_count": null,
   "metadata": {
    "colab": {
     "base_uri": "https://localhost:8080/",
     "height": 520
    },
    "id": "3skHvPQbJqsE",
    "outputId": "6200175b-82fe-4006-de5c-cd21c201dede"
   },
   "outputs": [],
   "source": [
    "Image('fusee.png',width = 750)"
   ]
  },
  {
   "cell_type": "markdown",
   "metadata": {
    "id": "rdp4CmRMJ-x8"
   },
   "source": [
    "We aim at optimizing the design of a solid propellant rocket booster for two objective :\n",
    "- Maximization of the increment of velocity of the booster\n",
    "- Minimization of the global mass of the booster\n",
    "\n",
    "Four optimization variables are involved : \n",
    "- Diameter of the nozzle throat ($Dc$)\n",
    "- Exit diameter of the nozzle ($Ds$)\n",
    "- Combustion pressure ($Pc$)\n",
    "- Mass of propellant ($M$)\n",
    "\n",
    "The bounds of the design  variables are the following: \n",
    "  - $0.05 \\leq Dc \\leq  1$ (in meters)\n",
    "  - $0.5 \\leq  Ds \\leq  1.2$ (in meters)\n",
    "  - $1 \\leq  Pc \\leq  500$ (in bars)\n",
    "  - $10000. \\leq  M \\leq  15000.$ (in kg)\n",
    "  \n",
    "We suppose that the booster has a payload of 500 kg.\n",
    "\n",
    "Eight constraints are involved in the design optimization problem relative to the propulsion and the structural sizing: \n",
    "- Combustion pressure with respect to the ambient pressure\n",
    "- Consistency of diameter ratio between the nozzle exit  diameter and the throat diameter\n",
    "- Consistency of pressures between the nozzle exit pressure and the combustion pressure\n",
    "- Constraint of characteristic velocity of propellant\n",
    "- Consistency of the propellant filling \n",
    "- Consistency of the clamping\n",
    "- Two bulk constraints on the solid booster\n",
    "\n",
    "\n",
    "## Design process : "
   ]
  },
  {
   "cell_type": "code",
   "execution_count": null,
   "metadata": {
    "colab": {
     "base_uri": "https://localhost:8080/",
     "height": 275
    },
    "id": "RVokdUECJm9o",
    "outputId": "603e91c3-83a8-490e-b33d-0bf29aa9364d"
   },
   "outputs": [],
   "source": [
    "Image('xdsm_booster.png',width = 750)"
   ]
  },
  {
   "cell_type": "code",
   "execution_count": null,
   "metadata": {
    "colab": {
     "base_uri": "https://localhost:8080/",
     "height": 551
    },
    "id": "6jW4aMusKQP-",
    "outputId": "30b8864d-ca11-4d44-b3d8-a9f6bc5842da"
   },
   "outputs": [],
   "source": [
    "Image('partition_tree_n2.png',width = 750)"
   ]
  },
  {
   "cell_type": "markdown",
   "metadata": {
    "id": "ryHNh56WIqdI"
   },
   "source": [
    "## <font color='blue'> Problem simulation</font>\n",
    "Import of general python library "
   ]
  },
  {
   "cell_type": "code",
   "execution_count": null,
   "metadata": {
    "id": "QCpz_8IiIqdK"
   },
   "outputs": [],
   "source": [
    "import Masse, Propulsion, MDA #python functions required to run the simulations\n",
    "import numpy as np\n",
    "%matplotlib inline"
   ]
  },
  {
   "cell_type": "code",
   "execution_count": null,
   "metadata": {
    "id": "4ZPL1ThjIqdU"
   },
   "outputs": [],
   "source": [
    "# Usage : [Obj, Cons] = MDA(X)"
   ]
  },
  {
   "cell_type": "code",
   "execution_count": null,
   "metadata": {
    "colab": {
     "base_uri": "https://localhost:8080/"
    },
    "id": "aTkewJ-BIqda",
    "outputId": "3b99277c-e8c4-42b4-db45-ed73a422fbed"
   },
   "outputs": [],
   "source": [
    "MDA.Booster(np.array([1.,1.,1.,1.]))"
   ]
  },
  {
   "cell_type": "markdown",
   "metadata": {
    "id": "1znLPlAKIqdi"
   },
   "source": [
    "## <font color='blue'> Multi-objective optimization with Platypus</font>\n",
    "\n",
    "Platypus is a python library for multi-objective optimization. Platypus offer several multi-objective optimization algorithms using population-based methods.\n",
    "\n",
    "To define an optimization problem, one has to define : \n",
    "- the number of design variables, objective functions and constraints\n",
    "- the definition of variable bounds\n",
    "- the problem functions (objective and constraints)\n",
    "\n",
    "```\n",
    "from platypus import Problem\n",
    "problem = Problem(i,j,k) # with i : number of design variables, j : number of objective functions, k : number of constraints\n",
    "    \n",
    "problem.types[:] =  [Real(0., 1.)...] #Definition of constraints ans bounds\n",
    "problem.constraints[:] = \"<=0\"  #feasible is g$\\leq 0$\n",
    "problem.function = my_func \n",
    "problem.directions[:]= problem.MINIMIZE\n",
    "```\n",
    "\n",
    "\n",
    "To run the optimization problem, one has to define the optimization algorithm and number of iterations : \n",
    "```\n",
    "algorithm = NSGAII(problem,population_size=100)\n",
    "algorithm.run(n_iter)\n",
    "```"
   ]
  },
  {
   "cell_type": "markdown",
   "metadata": {
    "id": "FW8kfucxIqdk"
   },
   "source": [
    "## <font color='blue'> Exercice\n",
    "### 1. Optimize the booster test case with NSGA-II algorithm\n",
    "- All the variables have been bounded between 0. and 1.\n",
    "- Objectives have been normalized by a factor 1000.\n",
    "- Maximization of $\\Delta_V$ has been transformed into minimization of -$\\Delta_V$\n",
    "\n",
    "### 2. Plot the Pareto front using platypus analysis\n",
    "\n",
    "Help for data analysis : https://platypus.readthedocs.io/en/latest/getting-started.html#a-simple-example\n",
    "\n",
    "### 3. Try OMOPSO on this problem using platypus and plot the Pareto front"
   ]
  },
  {
   "cell_type": "code",
   "execution_count": null,
   "metadata": {
    "id": "Cxh1rt_9Iqdk"
   },
   "outputs": [],
   "source": []
  },
  {
   "cell_type": "code",
   "execution_count": null,
   "metadata": {
    "id": "pNYhuxULIqdq"
   },
   "outputs": [],
   "source": []
  }
 ],
 "metadata": {
  "colab": {
   "name": "MAP 554 - Lab 3 design of solid propellant booster.ipynb",
   "provenance": [],
   "toc_visible": true
  },
  "kernelspec": {
   "display_name": "Python 3",
   "language": "python",
   "name": "python3"
  },
  "language_info": {
   "codemirror_mode": {
    "name": "ipython",
    "version": 3
   },
   "file_extension": ".py",
   "mimetype": "text/x-python",
   "name": "python",
   "nbconvert_exporter": "python",
   "pygments_lexer": "ipython3",
   "version": "3.7.1"
  }
 },
 "nbformat": 4,
 "nbformat_minor": 4
}
